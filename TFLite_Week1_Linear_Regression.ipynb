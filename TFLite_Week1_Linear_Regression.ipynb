{
 "cells": [
  {
   "cell_type": "markdown",
   "metadata": {
    "colab_type": "text",
    "id": "Za8-Nr5k11fh"
   },
   "source": [
    "##### Copyright 2018 The TensorFlow Authors."
   ]
  },
  {
   "cell_type": "code",
   "execution_count": null,
   "metadata": {
    "cellView": "form",
    "colab": {},
    "colab_type": "code",
    "id": "Eq10uEbw0E4l"
   },
   "outputs": [],
   "source": [
    "#@title Licensed under the Apache License, Version 2.0 (the \"License\");\n",
    "# you may not use this file except in compliance with the License.\n",
    "# You may obtain a copy of the License at\n",
    "#\n",
    "# https://www.apache.org/licenses/LICENSE-2.0\n",
    "#\n",
    "# Unless required by applicable law or agreed to in writing, software\n",
    "# distributed under the License is distributed on an \"AS IS\" BASIS,\n",
    "# WITHOUT WARRANTIES OR CONDITIONS OF ANY KIND, either express or implied.\n",
    "# See the License for the specific language governing permissions and\n",
    "# limitations under the License."
   ]
  },
  {
   "cell_type": "markdown",
   "metadata": {
    "colab_type": "text",
    "id": "UysiGN3tGQHY"
   },
   "source": [
    "# Running TFLite models"
   ]
  },
  {
   "cell_type": "markdown",
   "metadata": {
    "colab_type": "text",
    "id": "2hOrvdmswy5O"
   },
   "source": [
    "<table class=\"tfo-notebook-buttons\" align=\"left\">\n",
    "  <td>\n",
    "    <a target=\"_blank\" href=\"https://colab.research.google.com/github/lmoroney/dlaicourse/blob/master/TensorFlow%20Deployment/Course%202%20-%20TensorFlow%20Lite/Week%201/Examples/TFLite_Week1_Linear_Regression.ipynb\">\n",
    "    <img src=\"https://www.tensorflow.org/images/colab_logo_32px.png\" />\n",
    "    Run in Google Colab</a>\n",
    "  </td>\n",
    "  <td>\n",
    "    <a target=\"_blank\" href=\"https://github.com/lmoroney/dlaicourse/blob/master/TensorFlow%20Deployment/Course%202%20-%20TensorFlow%20Lite/Week%201/Examples/TFLite_Week1_Linear_Regression.ipynb\">\n",
    "    <img src=\"https://www.tensorflow.org/images/GitHub-Mark-32px.png\" />\n",
    "    View source on GitHub</a>\n",
    "  </td>\n",
    "</table>"
   ]
  },
  {
   "cell_type": "markdown",
   "metadata": {
    "colab_type": "text",
    "id": "W-VhTkyTGcaQ"
   },
   "source": [
    "## Setup"
   ]
  },
  {
   "cell_type": "code",
   "execution_count": 1,
   "metadata": {
    "colab": {},
    "colab_type": "code",
    "id": "Ll4ii2J9Fea_"
   },
   "outputs": [],
   "source": [
    "try:\n",
    "    %tensorflow_version 2.x\n",
    "except:\n",
    "    pass"
   ]
  },
  {
   "cell_type": "code",
   "execution_count": 3,
   "metadata": {
    "colab": {},
    "colab_type": "code",
    "id": "dy4BcTjBFTWx"
   },
   "outputs": [
    {
     "name": "stdout",
     "output_type": "stream",
     "text": [
      "• Using TensorFlow Version: 2.0.0\n"
     ]
    }
   ],
   "source": [
    "import pathlib\n",
    "import numpy as np\n",
    "import matplotlib.pyplot as plt\n",
    "\n",
    "import tensorflow as tf\n",
    "\n",
    "print('\\u2022 Using TensorFlow Version:', tf.__version__)"
   ]
  },
  {
   "cell_type": "markdown",
   "metadata": {
    "colab_type": "text",
    "id": "ceibQLDeGhI4"
   },
   "source": [
    "## Create a Basic Model of the Form y = mx + c"
   ]
  },
  {
   "cell_type": "code",
   "execution_count": 4,
   "metadata": {
    "colab": {},
    "colab_type": "code",
    "id": "YIBCsjQNF46Z"
   },
   "outputs": [
    {
     "name": "stdout",
     "output_type": "stream",
     "text": [
      "Train on 6 samples\n",
      "Epoch 1/200\n",
      "6/6 [==============================] - 4s 745ms/sample - loss: 60.5806\n",
      "Epoch 2/200\n",
      "6/6 [==============================] - 0s 7ms/sample - loss: 48.0952\n",
      "Epoch 3/200\n",
      "6/6 [==============================] - 0s 12ms/sample - loss: 38.2633\n",
      "Epoch 4/200\n",
      "6/6 [==============================] - 0s 7ms/sample - loss: 30.5194\n",
      "Epoch 5/200\n",
      "6/6 [==============================] - 0s 8ms/sample - loss: 24.4183\n",
      "Epoch 6/200\n",
      "6/6 [==============================] - 0s 7ms/sample - loss: 19.6099\n",
      "Epoch 7/200\n",
      "6/6 [==============================] - 0s 8ms/sample - loss: 15.8187\n",
      "Epoch 8/200\n",
      "6/6 [==============================] - 0s 7ms/sample - loss: 12.8280\n",
      "Epoch 9/200\n",
      "6/6 [==============================] - 0s 9ms/sample - loss: 10.4671\n",
      "Epoch 10/200\n",
      "6/6 [==============================] - 0s 9ms/sample - loss: 8.6020\n",
      "Epoch 11/200\n",
      "6/6 [==============================] - 0s 7ms/sample - loss: 7.1271\n",
      "Epoch 12/200\n",
      "6/6 [==============================] - 0s 8ms/sample - loss: 5.9594\n",
      "Epoch 13/200\n",
      "6/6 [==============================] - 0s 9ms/sample - loss: 5.0334\n",
      "Epoch 14/200\n",
      "6/6 [==============================] - 0s 7ms/sample - loss: 4.2978\n",
      "Epoch 15/200\n",
      "6/6 [==============================] - 0s 10ms/sample - loss: 3.7121\n",
      "Epoch 16/200\n",
      "6/6 [==============================] - 0s 7ms/sample - loss: 3.2445\n",
      "Epoch 17/200\n",
      "6/6 [==============================] - 0s 9ms/sample - loss: 2.8700\n",
      "Epoch 18/200\n",
      "6/6 [==============================] - 0s 8ms/sample - loss: 2.5689\n",
      "Epoch 19/200\n",
      "6/6 [==============================] - 0s 11ms/sample - loss: 2.3255\n",
      "Epoch 20/200\n",
      "6/6 [==============================] - 0s 10ms/sample - loss: 2.1278\n",
      "Epoch 21/200\n",
      "6/6 [==============================] - 0s 11ms/sample - loss: 1.9662\n",
      "Epoch 22/200\n",
      "6/6 [==============================] - 0s 8ms/sample - loss: 1.8330\n",
      "Epoch 23/200\n",
      "6/6 [==============================] - 0s 6ms/sample - loss: 1.7223\n",
      "Epoch 24/200\n",
      "6/6 [==============================] - 0s 7ms/sample - loss: 1.6295\n",
      "Epoch 25/200\n",
      "6/6 [==============================] - 0s 10ms/sample - loss: 1.5508\n",
      "Epoch 26/200\n",
      "6/6 [==============================] - 0s 6ms/sample - loss: 1.4834\n",
      "Epoch 27/200\n",
      "6/6 [==============================] - 0s 8ms/sample - loss: 1.4250\n",
      "Epoch 28/200\n",
      "6/6 [==============================] - 0s 8ms/sample - loss: 1.3737\n",
      "Epoch 29/200\n",
      "6/6 [==============================] - 0s 10ms/sample - loss: 1.3282\n",
      "Epoch 30/200\n",
      "6/6 [==============================] - 0s 7ms/sample - loss: 1.2873\n",
      "Epoch 31/200\n",
      "6/6 [==============================] - 0s 8ms/sample - loss: 1.2501\n",
      "Epoch 32/200\n",
      "6/6 [==============================] - 0s 6ms/sample - loss: 1.2160\n",
      "Epoch 33/200\n",
      "6/6 [==============================] - 0s 7ms/sample - loss: 1.1844\n",
      "Epoch 34/200\n",
      "6/6 [==============================] - 0s 6ms/sample - loss: 1.1548\n",
      "Epoch 35/200\n",
      "6/6 [==============================] - 0s 8ms/sample - loss: 1.1270\n",
      "Epoch 36/200\n",
      "6/6 [==============================] - 0s 7ms/sample - loss: 1.1006\n",
      "Epoch 37/200\n",
      "6/6 [==============================] - 0s 7ms/sample - loss: 1.0755\n",
      "Epoch 38/200\n",
      "6/6 [==============================] - 0s 9ms/sample - loss: 1.0514\n",
      "Epoch 39/200\n",
      "6/6 [==============================] - 0s 7ms/sample - loss: 1.0282\n",
      "Epoch 40/200\n",
      "6/6 [==============================] - 0s 9ms/sample - loss: 1.0059\n",
      "Epoch 41/200\n",
      "6/6 [==============================] - 0s 8ms/sample - loss: 0.9842\n",
      "Epoch 42/200\n",
      "6/6 [==============================] - 0s 7ms/sample - loss: 0.9632\n",
      "Epoch 43/200\n",
      "6/6 [==============================] - 0s 7ms/sample - loss: 0.9428\n",
      "Epoch 44/200\n",
      "6/6 [==============================] - 0s 6ms/sample - loss: 0.9230\n",
      "Epoch 45/200\n",
      "6/6 [==============================] - 0s 5ms/sample - loss: 0.9037\n",
      "Epoch 46/200\n",
      "6/6 [==============================] - 0s 6ms/sample - loss: 0.8848\n",
      "Epoch 47/200\n",
      "6/6 [==============================] - 0s 9ms/sample - loss: 0.8664\n",
      "Epoch 48/200\n",
      "6/6 [==============================] - 0s 7ms/sample - loss: 0.8484\n",
      "Epoch 49/200\n",
      "6/6 [==============================] - 0s 7ms/sample - loss: 0.8309\n",
      "Epoch 50/200\n",
      "6/6 [==============================] - 0s 7ms/sample - loss: 0.8137\n",
      "Epoch 51/200\n",
      "6/6 [==============================] - 0s 10ms/sample - loss: 0.7969\n",
      "Epoch 52/200\n",
      "6/6 [==============================] - 0s 9ms/sample - loss: 0.7804\n",
      "Epoch 53/200\n",
      "6/6 [==============================] - 0s 7ms/sample - loss: 0.7644\n",
      "Epoch 54/200\n",
      "6/6 [==============================] - 0s 10ms/sample - loss: 0.7486\n",
      "Epoch 55/200\n",
      "6/6 [==============================] - 0s 6ms/sample - loss: 0.7332\n",
      "Epoch 56/200\n",
      "6/6 [==============================] - 0s 7ms/sample - loss: 0.7181\n",
      "Epoch 57/200\n",
      "6/6 [==============================] - 0s 6ms/sample - loss: 0.7033\n",
      "Epoch 58/200\n",
      "6/6 [==============================] - 0s 7ms/sample - loss: 0.6889\n",
      "Epoch 59/200\n",
      "6/6 [==============================] - 0s 8ms/sample - loss: 0.6747\n",
      "Epoch 60/200\n",
      "6/6 [==============================] - 0s 8ms/sample - loss: 0.6609\n",
      "Epoch 61/200\n",
      "6/6 [==============================] - 0s 8ms/sample - loss: 0.6473\n",
      "Epoch 62/200\n",
      "6/6 [==============================] - 0s 4ms/sample - loss: 0.6340\n",
      "Epoch 63/200\n",
      "6/6 [==============================] - 0s 5ms/sample - loss: 0.6209\n",
      "Epoch 64/200\n",
      "6/6 [==============================] - 0s 11ms/sample - loss: 0.6082\n",
      "Epoch 65/200\n",
      "6/6 [==============================] - 0s 6ms/sample - loss: 0.5957\n",
      "Epoch 66/200\n",
      "6/6 [==============================] - 0s 6ms/sample - loss: 0.5834\n",
      "Epoch 67/200\n",
      "6/6 [==============================] - 0s 6ms/sample - loss: 0.5715\n",
      "Epoch 68/200\n",
      "6/6 [==============================] - 0s 6ms/sample - loss: 0.5597\n",
      "Epoch 69/200\n",
      "6/6 [==============================] - 0s 9ms/sample - loss: 0.5482\n",
      "Epoch 70/200\n",
      "6/6 [==============================] - 0s 6ms/sample - loss: 0.5370\n",
      "Epoch 71/200\n",
      "6/6 [==============================] - 0s 6ms/sample - loss: 0.5259\n",
      "Epoch 72/200\n",
      "6/6 [==============================] - 0s 6ms/sample - loss: 0.5151\n",
      "Epoch 73/200\n",
      "6/6 [==============================] - 0s 6ms/sample - loss: 0.5045\n",
      "Epoch 74/200\n",
      "6/6 [==============================] - 0s 6ms/sample - loss: 0.4942\n",
      "Epoch 75/200\n",
      "6/6 [==============================] - 0s 6ms/sample - loss: 0.4840\n",
      "Epoch 76/200\n",
      "6/6 [==============================] - 0s 6ms/sample - loss: 0.4741\n",
      "Epoch 77/200\n",
      "6/6 [==============================] - 0s 6ms/sample - loss: 0.4644\n",
      "Epoch 78/200\n",
      "6/6 [==============================] - 0s 5ms/sample - loss: 0.4548\n",
      "Epoch 79/200\n",
      "6/6 [==============================] - 0s 6ms/sample - loss: 0.4455\n",
      "Epoch 80/200\n",
      "6/6 [==============================] - 0s 8ms/sample - loss: 0.4363\n",
      "Epoch 81/200\n",
      "6/6 [==============================] - 0s 6ms/sample - loss: 0.4274\n",
      "Epoch 82/200\n",
      "6/6 [==============================] - 0s 7ms/sample - loss: 0.4186\n",
      "Epoch 83/200\n",
      "6/6 [==============================] - 0s 7ms/sample - loss: 0.4100\n",
      "Epoch 84/200\n",
      "6/6 [==============================] - 0s 6ms/sample - loss: 0.4016\n",
      "Epoch 85/200\n",
      "6/6 [==============================] - 0s 5ms/sample - loss: 0.3933\n",
      "Epoch 86/200\n",
      "6/6 [==============================] - 0s 6ms/sample - loss: 0.3852\n",
      "Epoch 87/200\n",
      "6/6 [==============================] - 0s 5ms/sample - loss: 0.3773\n",
      "Epoch 88/200\n",
      "6/6 [==============================] - 0s 5ms/sample - loss: 0.3696\n",
      "Epoch 89/200\n",
      "6/6 [==============================] - 0s 8ms/sample - loss: 0.3620\n",
      "Epoch 90/200\n",
      "6/6 [==============================] - 0s 6ms/sample - loss: 0.3545\n",
      "Epoch 91/200\n",
      "6/6 [==============================] - 0s 9ms/sample - loss: 0.3473\n",
      "Epoch 92/200\n",
      "6/6 [==============================] - 0s 15ms/sample - loss: 0.3401\n",
      "Epoch 93/200\n",
      "6/6 [==============================] - 0s 13ms/sample - loss: 0.3331\n",
      "Epoch 94/200\n",
      "6/6 [==============================] - 0s 8ms/sample - loss: 0.3263\n",
      "Epoch 95/200\n",
      "6/6 [==============================] - 0s 5ms/sample - loss: 0.3196\n",
      "Epoch 96/200\n",
      "6/6 [==============================] - 0s 8ms/sample - loss: 0.3130\n",
      "Epoch 97/200\n",
      "6/6 [==============================] - 0s 6ms/sample - loss: 0.3066\n",
      "Epoch 98/200\n",
      "6/6 [==============================] - 0s 5ms/sample - loss: 0.3003\n",
      "Epoch 99/200\n",
      "6/6 [==============================] - 0s 5ms/sample - loss: 0.2941\n",
      "Epoch 100/200\n",
      "6/6 [==============================] - 0s 5ms/sample - loss: 0.2881\n",
      "Epoch 101/200\n",
      "6/6 [==============================] - 0s 5ms/sample - loss: 0.2822\n"
     ]
    },
    {
     "name": "stdout",
     "output_type": "stream",
     "text": [
      "Epoch 102/200\n",
      "6/6 [==============================] - 0s 5ms/sample - loss: 0.2764\n",
      "Epoch 103/200\n",
      "6/6 [==============================] - 0s 5ms/sample - loss: 0.2707\n",
      "Epoch 104/200\n",
      "6/6 [==============================] - 0s 8ms/sample - loss: 0.2651\n",
      "Epoch 105/200\n",
      "6/6 [==============================] - 0s 5ms/sample - loss: 0.2597\n",
      "Epoch 106/200\n",
      "6/6 [==============================] - 0s 5ms/sample - loss: 0.2544\n",
      "Epoch 107/200\n",
      "6/6 [==============================] - 0s 4ms/sample - loss: 0.2491\n",
      "Epoch 108/200\n",
      "6/6 [==============================] - 0s 5ms/sample - loss: 0.2440\n",
      "Epoch 109/200\n",
      "6/6 [==============================] - 0s 5ms/sample - loss: 0.2390\n",
      "Epoch 110/200\n",
      "6/6 [==============================] - 0s 5ms/sample - loss: 0.2341\n",
      "Epoch 111/200\n",
      "6/6 [==============================] - 0s 5ms/sample - loss: 0.2293\n",
      "Epoch 112/200\n",
      "6/6 [==============================] - 0s 4ms/sample - loss: 0.2246\n",
      "Epoch 113/200\n",
      "6/6 [==============================] - 0s 4ms/sample - loss: 0.2200\n",
      "Epoch 114/200\n",
      "6/6 [==============================] - 0s 4ms/sample - loss: 0.2154\n",
      "Epoch 115/200\n",
      "6/6 [==============================] - 0s 5ms/sample - loss: 0.2110\n",
      "Epoch 116/200\n",
      "6/6 [==============================] - 0s 4ms/sample - loss: 0.2067\n",
      "Epoch 117/200\n",
      "6/6 [==============================] - 0s 4ms/sample - loss: 0.2024\n",
      "Epoch 118/200\n",
      "6/6 [==============================] - 0s 4ms/sample - loss: 0.1983\n",
      "Epoch 119/200\n",
      "6/6 [==============================] - 0s 4ms/sample - loss: 0.1942\n",
      "Epoch 120/200\n",
      "6/6 [==============================] - 0s 5ms/sample - loss: 0.1902\n",
      "Epoch 121/200\n",
      "6/6 [==============================] - 0s 5ms/sample - loss: 0.1863\n",
      "Epoch 122/200\n",
      "6/6 [==============================] - 0s 5ms/sample - loss: 0.1825\n",
      "Epoch 123/200\n",
      "6/6 [==============================] - 0s 6ms/sample - loss: 0.1787\n",
      "Epoch 124/200\n",
      "6/6 [==============================] - 0s 5ms/sample - loss: 0.1751\n",
      "Epoch 125/200\n",
      "6/6 [==============================] - 0s 5ms/sample - loss: 0.1715\n",
      "Epoch 126/200\n",
      "6/6 [==============================] - 0s 3ms/sample - loss: 0.1680\n",
      "Epoch 127/200\n",
      "6/6 [==============================] - 0s 4ms/sample - loss: 0.1645\n",
      "Epoch 128/200\n",
      "6/6 [==============================] - 0s 4ms/sample - loss: 0.1611\n",
      "Epoch 129/200\n",
      "6/6 [==============================] - 0s 4ms/sample - loss: 0.1578\n",
      "Epoch 130/200\n",
      "6/6 [==============================] - 0s 3ms/sample - loss: 0.1546\n",
      "Epoch 131/200\n",
      "6/6 [==============================] - 0s 3ms/sample - loss: 0.1514\n",
      "Epoch 132/200\n",
      "6/6 [==============================] - 0s 3ms/sample - loss: 0.1483\n",
      "Epoch 133/200\n",
      "6/6 [==============================] - 0s 4ms/sample - loss: 0.1452\n",
      "Epoch 134/200\n",
      "6/6 [==============================] - 0s 4ms/sample - loss: 0.1423\n",
      "Epoch 135/200\n",
      "6/6 [==============================] - 0s 4ms/sample - loss: 0.1393\n",
      "Epoch 136/200\n",
      "6/6 [==============================] - 0s 3ms/sample - loss: 0.1365\n",
      "Epoch 137/200\n",
      "6/6 [==============================] - 0s 4ms/sample - loss: 0.1337\n",
      "Epoch 138/200\n",
      "6/6 [==============================] - 0s 4ms/sample - loss: 0.1309\n",
      "Epoch 139/200\n",
      "6/6 [==============================] - 0s 4ms/sample - loss: 0.1282\n",
      "Epoch 140/200\n",
      "6/6 [==============================] - 0s 4ms/sample - loss: 0.1256\n",
      "Epoch 141/200\n",
      "6/6 [==============================] - 0s 3ms/sample - loss: 0.1230\n",
      "Epoch 142/200\n",
      "6/6 [==============================] - 0s 3ms/sample - loss: 0.1205\n",
      "Epoch 143/200\n",
      "6/6 [==============================] - 0s 4ms/sample - loss: 0.1180\n",
      "Epoch 144/200\n",
      "6/6 [==============================] - 0s 3ms/sample - loss: 0.1156\n",
      "Epoch 145/200\n",
      "6/6 [==============================] - 0s 4ms/sample - loss: 0.1132\n",
      "Epoch 146/200\n",
      "6/6 [==============================] - 0s 3ms/sample - loss: 0.1109\n",
      "Epoch 147/200\n",
      "6/6 [==============================] - 0s 4ms/sample - loss: 0.1086\n",
      "Epoch 148/200\n",
      "6/6 [==============================] - 0s 3ms/sample - loss: 0.1064\n",
      "Epoch 149/200\n",
      "6/6 [==============================] - 0s 4ms/sample - loss: 0.1042\n",
      "Epoch 150/200\n",
      "6/6 [==============================] - 0s 3ms/sample - loss: 0.1021\n",
      "Epoch 151/200\n",
      "6/6 [==============================] - 0s 3ms/sample - loss: 0.1000\n",
      "Epoch 152/200\n",
      "6/6 [==============================] - 0s 4ms/sample - loss: 0.0979\n",
      "Epoch 153/200\n",
      "6/6 [==============================] - 0s 3ms/sample - loss: 0.0959\n",
      "Epoch 154/200\n",
      "6/6 [==============================] - 0s 3ms/sample - loss: 0.0939\n",
      "Epoch 155/200\n",
      "6/6 [==============================] - 0s 3ms/sample - loss: 0.0920\n",
      "Epoch 156/200\n",
      "6/6 [==============================] - 0s 4ms/sample - loss: 0.0901\n",
      "Epoch 157/200\n",
      "6/6 [==============================] - 0s 4ms/sample - loss: 0.0883\n",
      "Epoch 158/200\n",
      "6/6 [==============================] - 0s 4ms/sample - loss: 0.0864\n",
      "Epoch 159/200\n",
      "6/6 [==============================] - 0s 3ms/sample - loss: 0.0847\n",
      "Epoch 160/200\n",
      "6/6 [==============================] - 0s 4ms/sample - loss: 0.0829\n",
      "Epoch 161/200\n",
      "6/6 [==============================] - 0s 4ms/sample - loss: 0.0812\n",
      "Epoch 162/200\n",
      "6/6 [==============================] - 0s 4ms/sample - loss: 0.0796\n",
      "Epoch 163/200\n",
      "6/6 [==============================] - 0s 4ms/sample - loss: 0.0779\n",
      "Epoch 164/200\n",
      "6/6 [==============================] - 0s 5ms/sample - loss: 0.0763\n",
      "Epoch 165/200\n",
      "6/6 [==============================] - 0s 4ms/sample - loss: 0.0748\n",
      "Epoch 166/200\n",
      "6/6 [==============================] - 0s 3ms/sample - loss: 0.0732\n",
      "Epoch 167/200\n",
      "6/6 [==============================] - 0s 3ms/sample - loss: 0.0717\n",
      "Epoch 168/200\n",
      "6/6 [==============================] - 0s 4ms/sample - loss: 0.0702\n",
      "Epoch 169/200\n",
      "6/6 [==============================] - 0s 3ms/sample - loss: 0.0688\n",
      "Epoch 170/200\n",
      "6/6 [==============================] - 0s 4ms/sample - loss: 0.0674\n",
      "Epoch 171/200\n",
      "6/6 [==============================] - 0s 4ms/sample - loss: 0.0660\n",
      "Epoch 172/200\n",
      "6/6 [==============================] - 0s 4ms/sample - loss: 0.0646\n",
      "Epoch 173/200\n",
      "6/6 [==============================] - 0s 4ms/sample - loss: 0.0633\n",
      "Epoch 174/200\n",
      "6/6 [==============================] - 0s 4ms/sample - loss: 0.0620\n",
      "Epoch 175/200\n",
      "6/6 [==============================] - 0s 4ms/sample - loss: 0.0607\n",
      "Epoch 176/200\n",
      "6/6 [==============================] - 0s 3ms/sample - loss: 0.0595\n",
      "Epoch 177/200\n",
      "6/6 [==============================] - 0s 4ms/sample - loss: 0.0583\n",
      "Epoch 178/200\n",
      "6/6 [==============================] - 0s 3ms/sample - loss: 0.0571\n",
      "Epoch 179/200\n",
      "6/6 [==============================] - 0s 4ms/sample - loss: 0.0559\n",
      "Epoch 180/200\n",
      "6/6 [==============================] - 0s 3ms/sample - loss: 0.0548\n",
      "Epoch 181/200\n",
      "6/6 [==============================] - 0s 4ms/sample - loss: 0.0536\n",
      "Epoch 182/200\n",
      "6/6 [==============================] - 0s 3ms/sample - loss: 0.0525\n",
      "Epoch 183/200\n",
      "6/6 [==============================] - 0s 4ms/sample - loss: 0.0515\n",
      "Epoch 184/200\n",
      "6/6 [==============================] - 0s 3ms/sample - loss: 0.0504\n",
      "Epoch 185/200\n",
      "6/6 [==============================] - 0s 4ms/sample - loss: 0.0494\n",
      "Epoch 186/200\n",
      "6/6 [==============================] - 0s 4ms/sample - loss: 0.0483\n",
      "Epoch 187/200\n",
      "6/6 [==============================] - 0s 3ms/sample - loss: 0.0474\n",
      "Epoch 188/200\n",
      "6/6 [==============================] - 0s 4ms/sample - loss: 0.0464\n",
      "Epoch 189/200\n",
      "6/6 [==============================] - 0s 3ms/sample - loss: 0.0454\n",
      "Epoch 190/200\n",
      "6/6 [==============================] - 0s 4ms/sample - loss: 0.0445\n",
      "Epoch 191/200\n",
      "6/6 [==============================] - 0s 3ms/sample - loss: 0.0436\n",
      "Epoch 192/200\n",
      "6/6 [==============================] - 0s 3ms/sample - loss: 0.0427\n",
      "Epoch 193/200\n",
      "6/6 [==============================] - 0s 3ms/sample - loss: 0.0418\n",
      "Epoch 194/200\n",
      "6/6 [==============================] - 0s 3ms/sample - loss: 0.0410\n",
      "Epoch 195/200\n",
      "6/6 [==============================] - 0s 4ms/sample - loss: 0.0401\n",
      "Epoch 196/200\n",
      "6/6 [==============================] - 0s 3ms/sample - loss: 0.0393\n",
      "Epoch 197/200\n",
      "6/6 [==============================] - 0s 4ms/sample - loss: 0.0385\n",
      "Epoch 198/200\n",
      "6/6 [==============================] - 0s 3ms/sample - loss: 0.0377\n",
      "Epoch 199/200\n",
      "6/6 [==============================] - 0s 3ms/sample - loss: 0.0369\n",
      "Epoch 200/200\n",
      "6/6 [==============================] - 0s 3ms/sample - loss: 0.0362\n"
     ]
    },
    {
     "data": {
      "text/plain": [
       "<tensorflow.python.keras.callbacks.History at 0x212ee45ffc8>"
      ]
     },
     "execution_count": 4,
     "metadata": {},
     "output_type": "execute_result"
    }
   ],
   "source": [
    "# Create a simple Keras model.\n",
    "x = [-1, 0, 1, 2, 3, 4]\n",
    "y = [-3, -1, 1, 3, 5, 7]\n",
    "\n",
    "model = tf.keras.models.Sequential([\n",
    "        tf.keras.layers.Dense(units=1, input_shape=[1])\n",
    "])\n",
    "\n",
    "model.compile(optimizer='sgd',\n",
    "              loss='mean_squared_error')\n",
    "\n",
    "model.fit(x, y, epochs=200)"
   ]
  },
  {
   "cell_type": "markdown",
   "metadata": {
    "colab_type": "text",
    "id": "EjsB-QICGt6L"
   },
   "source": [
    "## Generate a SavedModel"
   ]
  },
  {
   "cell_type": "code",
   "execution_count": 10,
   "metadata": {
    "colab": {},
    "colab_type": "code",
    "id": "a9xcbK7QHOfm"
   },
   "outputs": [
    {
     "name": "stdout",
     "output_type": "stream",
     "text": [
      "INFO:tensorflow:Assets written to: saved_model\\assets\n"
     ]
    }
   ],
   "source": [
    "export_dir = 'saved_model'\n",
    "tf.saved_model.save(model, export_dir)\n",
    "#pathlib.Path.cwd()"
   ]
  },
  {
   "cell_type": "markdown",
   "metadata": {
    "colab_type": "text",
    "id": "RRtsNwkiGxcO"
   },
   "source": [
    "## Convert the SavedModel to TFLite"
   ]
  },
  {
   "cell_type": "code",
   "execution_count": 11,
   "metadata": {
    "colab": {},
    "colab_type": "code",
    "id": "TtM8yKTVTpD3"
   },
   "outputs": [],
   "source": [
    "# Convert the model.\n",
    "converter = tf.lite.TFLiteConverter.from_saved_model(export_dir)\n",
    "tflite_model = converter.convert()"
   ]
  },
  {
   "cell_type": "code",
   "execution_count": 13,
   "metadata": {
    "colab": {},
    "colab_type": "code",
    "id": "4idYulcNHTdO"
   },
   "outputs": [
    {
     "data": {
      "text/plain": [
       "780"
      ]
     },
     "execution_count": 13,
     "metadata": {},
     "output_type": "execute_result"
    }
   ],
   "source": [
    "tflite_model_file = pathlib.Path('model.tflite')\n",
    "tflite_model_file.write_bytes(tflite_model)"
   ]
  },
  {
   "cell_type": "markdown",
   "metadata": {
    "colab_type": "text",
    "id": "HgGvp2yBG25Q"
   },
   "source": [
    "## Initialize the TFLite Interpreter To Try It Out"
   ]
  },
  {
   "cell_type": "code",
   "execution_count": 18,
   "metadata": {
    "colab": {},
    "colab_type": "code",
    "id": "DOt94wIWF8m7"
   },
   "outputs": [
    {
     "name": "stdout",
     "output_type": "stream",
     "text": [
      "[{'name': 'Identity', 'index': 0, 'shape': array([1, 1]), 'dtype': <class 'numpy.float32'>, 'quantization': (0.0, 0)}]\n"
     ]
    }
   ],
   "source": [
    "# Load TFLite model and allocate tensors.\n",
    "interpreter = tf.lite.Interpreter(model_content=tflite_model)\n",
    "interpreter.allocate_tensors()\n",
    "\n",
    "# Get input and output tensors.\n",
    "input_details = interpreter.get_input_details()\n",
    "output_details = interpreter.get_output_details()\n",
    "print(output_details)"
   ]
  },
  {
   "cell_type": "code",
   "execution_count": 19,
   "metadata": {
    "colab": {},
    "colab_type": "code",
    "id": "JGYkEK08F8qK"
   },
   "outputs": [
    {
     "name": "stdout",
     "output_type": "stream",
     "text": [
      "[0.071680784, 0.18053594, 0.9078884, 0.50084037, 0.42474756, 0.28894213, 0.60300237, 0.6653398, 0.25016835, 0.39853734, 0.086739115, 0.054866157, 0.51528746, 0.72843796, 0.66405463, 0.522346, 0.93201935, 0.54181397, 0.61582005, 0.16923776, 0.16546144, 0.68217206, 0.65584236, 0.12049255, 0.9905756, 0.41282305, 0.41737294, 0.91275924, 0.07628434, 0.7163085, 0.98206025, 0.50898594, 0.45607096, 0.87349147, 0.17427158, 0.2876311, 0.71331453, 0.9378127, 0.5225701, 0.006687489, 0.6940235, 0.8126579, 0.3175277, 0.1325727, 0.17322156, 0.23495826, 0.8221814, 0.8473077, 0.85739124, 0.66211396, 0.8169742, 0.61213505, 0.73632413, 0.98208326, 0.5907546, 0.1536302, 0.7031909, 0.562397, 0.45241496, 0.3991708, 0.94167095, 0.5996996, 0.12812735, 0.4500031, 0.8264181, 0.44775277, 0.43597138, 0.7681229, 0.89001936, 0.06116662, 0.13439986, 0.81643057, 0.5982022, 0.6947724, 0.011245213, 0.78314346, 0.41331658, 0.90068257, 0.29117408, 0.30454096, 0.20045754, 0.52030873, 0.076960914, 0.30575132, 0.75583524, 0.39987007, 0.4879197, 0.38417473, 0.8744018, 0.75010705, 0.45427564, 0.4195088, 0.6335101, 0.83157223, 0.33502406, 0.7309716, 0.91480166, 0.3305733, 0.6258938, 0.32158455]\n"
     ]
    }
   ],
   "source": [
    "# Test the TensorFlow Lite model on random input data.\n",
    "input_shape = input_details[0]['shape']\n",
    "inputs, outputs = [], []\n",
    "for _ in range(100):\n",
    "    input_data = np.array(np.random.random_sample(input_shape), dtype=np.float32)\n",
    "    interpreter.set_tensor(input_details[0]['index'], input_data)\n",
    "    \n",
    "    interpreter.invoke()\n",
    "    tflite_results = interpreter.get_tensor(output_details[0]['index'])\n",
    "    \n",
    "    # Test the TensorFlow model on random input data.\n",
    "    tf_results = model(tf.constant(input_data))\n",
    "    output_data = np.array(tf_results)\n",
    "    \n",
    "    inputs.append(input_data[0][0])\n",
    "    outputs.append(output_data[0][0])\n",
    "    \n",
    "print(inputs)"
   ]
  },
  {
   "cell_type": "markdown",
   "metadata": {
    "colab_type": "text",
    "id": "t1gQGH1KWAgW"
   },
   "source": [
    "## Visualize the Model"
   ]
  },
  {
   "cell_type": "code",
   "execution_count": 20,
   "metadata": {
    "colab": {},
    "colab_type": "code",
    "id": "ccvQ1mEJVrqo"
   },
   "outputs": [
    {
     "data": {
      "image/png": "[encoded data removed]",
      "text/plain": [
       "<Figure size 432x288 with 1 Axes>"
      ]
     },
     "metadata": {
      "needs_background": "light"
     },
     "output_type": "display_data"
    }
   ],
   "source": [
    "%matplotlib inline\n",
    "\n",
    "plt.plot(inputs, outputs, 'r')\n",
    "plt.show()"
   ]
  },
  {
   "cell_type": "markdown",
   "metadata": {
    "colab_type": "text",
    "id": "WbugMH6yKvtd"
   },
   "source": [
    "## Download the TFLite Model File\n",
    "\n",
    "If you are running this notebook in a Colab, you can run the cell below to download the tflite model to your local disk. \n",
    "\n",
    "**Note**: If the file does not download when you run the cell, try running the cell a second time."
   ]
  },
  {
   "cell_type": "code",
   "execution_count": null,
   "metadata": {
    "colab": {},
    "colab_type": "code",
    "id": "FOAIMETeJmkc"
   },
   "outputs": [],
   "source": [
    "try:\n",
    "    from google.colab import files\n",
    "    files.download(tflite_model_file)\n",
    "except:\n",
    "    pass"
   ]
  }
 ],
 "metadata": {
  "accelerator": "GPU",
  "colab": {
   "collapsed_sections": [],
   "last_runtime": {
    "build_target": "//learning/brain/python/client:colab_notebook_py3",
    "kind": "private"
   },
   "name": "TFLite_Week1_Linear_Regression.ipynb",
   "private_outputs": true,
   "provenance": [],
   "toc_visible": true
  },
  "kernelspec": {
   "display_name": "Python 3",
   "language": "python",
   "name": "python3"
  },
  "language_info": {
   "codemirror_mode": {
    "name": "ipython",
    "version": 3
   },
   "file_extension": ".py",
   "mimetype": "text/x-python",
   "name": "python",
   "nbconvert_exporter": "python",
   "pygments_lexer": "ipython3",
   "version": "3.7.6"
  }
 },
 "nbformat": 4,
 "nbformat_minor": 1
}
